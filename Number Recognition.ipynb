{
 "cells": [
  {
   "cell_type": "markdown",
   "id": "cd4a1e67",
   "metadata": {},
   "source": [
    "# Number Recognition\n",
    "\n",
    "<img src='https://production-media.paperswithcode.com/datasets/MNIST-0000000001-2e09631a_09liOmx.jpg' width='480'>\n",
    "\n",
    "> MNIST set is a large collection of handwritten digits. It is a very popular dataset in the field of image processing. It is often used for benchmarking machine learning algorithms. MNIST is short for Modified National Institute of Standards and Technology database."
   ]
  },
  {
   "cell_type": "markdown",
   "id": "363580b2",
   "metadata": {},
   "source": [
    "## Table of Contents\n",
    "\n",
    "1. Importing the libraries\n",
    "2. Importing the dataset\n",
    "3. Data preprocessing\n",
    "4. Model Training\n",
    "5. Building the model\n",
    "6. Training the model\n",
    "7. Prediction\n",
    "8. Predicting the model\n",
    "9. Conclusion"
   ]
  },
  {
   "cell_type": "markdown",
   "id": "bcf27215",
   "metadata": {},
   "source": [
    "**Importing the libraries**"
   ]
  },
  {
   "cell_type": "code",
   "execution_count": 1,
   "id": "b3dae61f",
   "metadata": {},
   "outputs": [],
   "source": [
    "import matplotlib.pyplot as plt\n",
    "%matplotlib inline\n",
    "import matplotlib\n",
    "import pandas as pd\n",
    "import tensorflow as tf\n",
    "from tensorflow import keras\n",
    "import seaborn as sns"
   ]
  },
  {
   "cell_type": "code",
   "execution_count": 3,
   "id": "5a2c1387",
   "metadata": {},
   "outputs": [
    {
     "data": {
      "text/plain": [
       "<module 'keras.api._v2.keras.datasets.mnist' from 'C:\\\\Anaconda Navigator\\\\lib\\\\site-packages\\\\keras\\\\api\\\\_v2\\\\keras\\\\datasets\\\\mnist\\\\__init__.py'>"
      ]
     },
     "execution_count": 3,
     "metadata": {},
     "output_type": "execute_result"
    }
   ],
   "source": [
    "digit_mnist = keras.datasets.mnist\n",
    "digit_mnist"
   ]
  },
  {
   "cell_type": "code",
   "execution_count": 4,
   "id": "59bc77c1",
   "metadata": {},
   "outputs": [],
   "source": [
    "(x_train_full,y_train_full),(x_test,y_test)=digit_mnist.load_data()"
   ]
  },
  {
   "cell_type": "code",
   "execution_count": 5,
   "id": "5feaf17c",
   "metadata": {},
   "outputs": [
    {
     "data": {
      "text/plain": [
       "<matplotlib.image.AxesImage at 0x13c69ea5910>"
      ]
     },
     "execution_count": 5,
     "metadata": {},
     "output_type": "execute_result"
    },
    {
     "data": {
      "image/png": "[encoded data removed]",
      "text/plain": [
       "<Figure size 432x288 with 1 Axes>"
      ]
     },
     "metadata": {
      "needs_background": "light"
     },
     "output_type": "display_data"
    }
   ],
   "source": [
    "plt.imshow(x_train_full[5])"
   ]
  },
  {
   "cell_type": "code",
   "execution_count": 7,
   "id": "17816c9c",
   "metadata": {},
   "outputs": [
    {
     "data": {
      "text/plain": [
       "9"
      ]
     },
     "execution_count": 7,
     "metadata": {},
     "output_type": "execute_result"
    }
   ],
   "source": [
    "y_train_full[4]"
   ]
  },
  {
   "cell_type": "markdown",
   "id": "be6ed1e0",
   "metadata": {},
   "source": [
    "**Data Preprocessing**"
   ]
  },
  {
   "cell_type": "code",
   "execution_count": 9,
   "id": "97f37255",
   "metadata": {},
   "outputs": [],
   "source": [
    "#Data Normalization\n",
    "x_train=x_train_full/255.\n",
    "x_test=x_test/255."
   ]
  },
  {
   "cell_type": "code",
   "execution_count": 10,
   "id": "140ad609",
   "metadata": {},
   "outputs": [
    {
     "data": {
      "text/plain": [
       "array([[[0., 0., 0., ..., 0., 0., 0.],\n",
       "        [0., 0., 0., ..., 0., 0., 0.],\n",
       "        [0., 0., 0., ..., 0., 0., 0.],\n",
       "        ...,\n",
       "        [0., 0., 0., ..., 0., 0., 0.],\n",
       "        [0., 0., 0., ..., 0., 0., 0.],\n",
       "        [0., 0., 0., ..., 0., 0., 0.]],\n",
       "\n",
       "       [[0., 0., 0., ..., 0., 0., 0.],\n",
       "        [0., 0., 0., ..., 0., 0., 0.],\n",
       "        [0., 0., 0., ..., 0., 0., 0.],\n",
       "        ...,\n",
       "        [0., 0., 0., ..., 0., 0., 0.],\n",
       "        [0., 0., 0., ..., 0., 0., 0.],\n",
       "        [0., 0., 0., ..., 0., 0., 0.]],\n",
       "\n",
       "       [[0., 0., 0., ..., 0., 0., 0.],\n",
       "        [0., 0., 0., ..., 0., 0., 0.],\n",
       "        [0., 0., 0., ..., 0., 0., 0.],\n",
       "        ...,\n",
       "        [0., 0., 0., ..., 0., 0., 0.],\n",
       "        [0., 0., 0., ..., 0., 0., 0.],\n",
       "        [0., 0., 0., ..., 0., 0., 0.]],\n",
       "\n",
       "       ...,\n",
       "\n",
       "       [[0., 0., 0., ..., 0., 0., 0.],\n",
       "        [0., 0., 0., ..., 0., 0., 0.],\n",
       "        [0., 0., 0., ..., 0., 0., 0.],\n",
       "        ...,\n",
       "        [0., 0., 0., ..., 0., 0., 0.],\n",
       "        [0., 0., 0., ..., 0., 0., 0.],\n",
       "        [0., 0., 0., ..., 0., 0., 0.]],\n",
       "\n",
       "       [[0., 0., 0., ..., 0., 0., 0.],\n",
       "        [0., 0., 0., ..., 0., 0., 0.],\n",
       "        [0., 0., 0., ..., 0., 0., 0.],\n",
       "        ...,\n",
       "        [0., 0., 0., ..., 0., 0., 0.],\n",
       "        [0., 0., 0., ..., 0., 0., 0.],\n",
       "        [0., 0., 0., ..., 0., 0., 0.]],\n",
       "\n",
       "       [[0., 0., 0., ..., 0., 0., 0.],\n",
       "        [0., 0., 0., ..., 0., 0., 0.],\n",
       "        [0., 0., 0., ..., 0., 0., 0.],\n",
       "        ...,\n",
       "        [0., 0., 0., ..., 0., 0., 0.],\n",
       "        [0., 0., 0., ..., 0., 0., 0.],\n",
       "        [0., 0., 0., ..., 0., 0., 0.]]])"
      ]
     },
     "execution_count": 10,
     "metadata": {},
     "output_type": "execute_result"
    }
   ],
   "source": [
    "x_train"
   ]
  },
  {
   "cell_type": "code",
   "execution_count": 11,
   "id": "3a1f81c4",
   "metadata": {},
   "outputs": [
    {
     "data": {
      "text/plain": [
       "array([[[0., 0., 0., ..., 0., 0., 0.],\n",
       "        [0., 0., 0., ..., 0., 0., 0.],\n",
       "        [0., 0., 0., ..., 0., 0., 0.],\n",
       "        ...,\n",
       "        [0., 0., 0., ..., 0., 0., 0.],\n",
       "        [0., 0., 0., ..., 0., 0., 0.],\n",
       "        [0., 0., 0., ..., 0., 0., 0.]],\n",
       "\n",
       "       [[0., 0., 0., ..., 0., 0., 0.],\n",
       "        [0., 0., 0., ..., 0., 0., 0.],\n",
       "        [0., 0., 0., ..., 0., 0., 0.],\n",
       "        ...,\n",
       "        [0., 0., 0., ..., 0., 0., 0.],\n",
       "        [0., 0., 0., ..., 0., 0., 0.],\n",
       "        [0., 0., 0., ..., 0., 0., 0.]],\n",
       "\n",
       "       [[0., 0., 0., ..., 0., 0., 0.],\n",
       "        [0., 0., 0., ..., 0., 0., 0.],\n",
       "        [0., 0., 0., ..., 0., 0., 0.],\n",
       "        ...,\n",
       "        [0., 0., 0., ..., 0., 0., 0.],\n",
       "        [0., 0., 0., ..., 0., 0., 0.],\n",
       "        [0., 0., 0., ..., 0., 0., 0.]],\n",
       "\n",
       "       ...,\n",
       "\n",
       "       [[0., 0., 0., ..., 0., 0., 0.],\n",
       "        [0., 0., 0., ..., 0., 0., 0.],\n",
       "        [0., 0., 0., ..., 0., 0., 0.],\n",
       "        ...,\n",
       "        [0., 0., 0., ..., 0., 0., 0.],\n",
       "        [0., 0., 0., ..., 0., 0., 0.],\n",
       "        [0., 0., 0., ..., 0., 0., 0.]],\n",
       "\n",
       "       [[0., 0., 0., ..., 0., 0., 0.],\n",
       "        [0., 0., 0., ..., 0., 0., 0.],\n",
       "        [0., 0., 0., ..., 0., 0., 0.],\n",
       "        ...,\n",
       "        [0., 0., 0., ..., 0., 0., 0.],\n",
       "        [0., 0., 0., ..., 0., 0., 0.],\n",
       "        [0., 0., 0., ..., 0., 0., 0.]],\n",
       "\n",
       "       [[0., 0., 0., ..., 0., 0., 0.],\n",
       "        [0., 0., 0., ..., 0., 0., 0.],\n",
       "        [0., 0., 0., ..., 0., 0., 0.],\n",
       "        ...,\n",
       "        [0., 0., 0., ..., 0., 0., 0.],\n",
       "        [0., 0., 0., ..., 0., 0., 0.],\n",
       "        [0., 0., 0., ..., 0., 0., 0.]]])"
      ]
     },
     "execution_count": 11,
     "metadata": {},
     "output_type": "execute_result"
    }
   ],
   "source": [
    "x_test"
   ]
  },
  {
   "cell_type": "markdown",
   "id": "031acedc",
   "metadata": {},
   "source": [
    "**Model Training**"
   ]
  },
  {
   "cell_type": "code",
   "execution_count": 12,
   "id": "19cd6353",
   "metadata": {},
   "outputs": [],
   "source": [
    "x_valid,x_train=x_train[:6000],x_train[6000:]\n",
    "y_valid,y_train=y_train_full[:6000],y_train_full[6000:]\n",
    "x_tests=x_test"
   ]
  },
  {
   "cell_type": "code",
   "execution_count": 13,
   "id": "e047ebed",
   "metadata": {},
   "outputs": [
    {
     "data": {
      "text/plain": [
       "array([[[0., 0., 0., ..., 0., 0., 0.],\n",
       "        [0., 0., 0., ..., 0., 0., 0.],\n",
       "        [0., 0., 0., ..., 0., 0., 0.],\n",
       "        ...,\n",
       "        [0., 0., 0., ..., 0., 0., 0.],\n",
       "        [0., 0., 0., ..., 0., 0., 0.],\n",
       "        [0., 0., 0., ..., 0., 0., 0.]],\n",
       "\n",
       "       [[0., 0., 0., ..., 0., 0., 0.],\n",
       "        [0., 0., 0., ..., 0., 0., 0.],\n",
       "        [0., 0., 0., ..., 0., 0., 0.],\n",
       "        ...,\n",
       "        [0., 0., 0., ..., 0., 0., 0.],\n",
       "        [0., 0., 0., ..., 0., 0., 0.],\n",
       "        [0., 0., 0., ..., 0., 0., 0.]],\n",
       "\n",
       "       [[0., 0., 0., ..., 0., 0., 0.],\n",
       "        [0., 0., 0., ..., 0., 0., 0.],\n",
       "        [0., 0., 0., ..., 0., 0., 0.],\n",
       "        ...,\n",
       "        [0., 0., 0., ..., 0., 0., 0.],\n",
       "        [0., 0., 0., ..., 0., 0., 0.],\n",
       "        [0., 0., 0., ..., 0., 0., 0.]],\n",
       "\n",
       "       ...,\n",
       "\n",
       "       [[0., 0., 0., ..., 0., 0., 0.],\n",
       "        [0., 0., 0., ..., 0., 0., 0.],\n",
       "        [0., 0., 0., ..., 0., 0., 0.],\n",
       "        ...,\n",
       "        [0., 0., 0., ..., 0., 0., 0.],\n",
       "        [0., 0., 0., ..., 0., 0., 0.],\n",
       "        [0., 0., 0., ..., 0., 0., 0.]],\n",
       "\n",
       "       [[0., 0., 0., ..., 0., 0., 0.],\n",
       "        [0., 0., 0., ..., 0., 0., 0.],\n",
       "        [0., 0., 0., ..., 0., 0., 0.],\n",
       "        ...,\n",
       "        [0., 0., 0., ..., 0., 0., 0.],\n",
       "        [0., 0., 0., ..., 0., 0., 0.],\n",
       "        [0., 0., 0., ..., 0., 0., 0.]],\n",
       "\n",
       "       [[0., 0., 0., ..., 0., 0., 0.],\n",
       "        [0., 0., 0., ..., 0., 0., 0.],\n",
       "        [0., 0., 0., ..., 0., 0., 0.],\n",
       "        ...,\n",
       "        [0., 0., 0., ..., 0., 0., 0.],\n",
       "        [0., 0., 0., ..., 0., 0., 0.],\n",
       "        [0., 0., 0., ..., 0., 0., 0.]]])"
      ]
     },
     "execution_count": 13,
     "metadata": {},
     "output_type": "execute_result"
    }
   ],
   "source": [
    "x_valid"
   ]
  },
  {
   "cell_type": "code",
   "execution_count": 14,
   "id": "902dabde",
   "metadata": {},
   "outputs": [
    {
     "data": {
      "text/plain": [
       "array([6, 0, 1, ..., 5, 6, 8], dtype=uint8)"
      ]
     },
     "execution_count": 14,
     "metadata": {},
     "output_type": "execute_result"
    }
   ],
   "source": [
    "y_train"
   ]
  },
  {
   "cell_type": "code",
   "execution_count": 15,
   "id": "19643eb5",
   "metadata": {},
   "outputs": [
    {
     "data": {
      "text/plain": [
       "array([5, 0, 4, ..., 8, 6, 9], dtype=uint8)"
      ]
     },
     "execution_count": 15,
     "metadata": {},
     "output_type": "execute_result"
    }
   ],
   "source": [
    "y_valid"
   ]
  },
  {
   "cell_type": "markdown",
   "id": "ed7bf5ce",
   "metadata": {},
   "source": [
    "**Building the model**"
   ]
  },
  {
   "cell_type": "code",
   "execution_count": 16,
   "id": "59b09803",
   "metadata": {},
   "outputs": [],
   "source": [
    "import numpy as np\n",
    "np.random.seed(42)\n",
    "tf.random.set_seed(42)"
   ]
  },
  {
   "cell_type": "code",
   "execution_count": 17,
   "id": "83af6446",
   "metadata": {},
   "outputs": [],
   "source": [
    "model=keras.models.Sequential()\n",
    "model.add(keras.layers.Flatten(input_shape=[28,28]))\n",
    "model.add(keras.layers.Dense(200,activation=\"relu\"))\n",
    "model.add(keras.layers.Dense(100,activation=\"relu\"))\n",
    "model.add(keras.layers.Dense(10,activation=\"softmax\"))"
   ]
  },
  {
   "cell_type": "code",
   "execution_count": 18,
   "id": "fd18031f",
   "metadata": {},
   "outputs": [
    {
     "name": "stdout",
     "output_type": "stream",
     "text": [
      "Model: \"sequential\"\n",
      "_________________________________________________________________\n",
      " Layer (type)                Output Shape              Param #   \n",
      "=================================================================\n",
      " flatten (Flatten)           (None, 784)               0         \n",
      "                                                                 \n",
      " dense (Dense)               (None, 200)               157000    \n",
      "                                                                 \n",
      " dense_1 (Dense)             (None, 100)               20100     \n",
      "                                                                 \n",
      " dense_2 (Dense)             (None, 10)                1010      \n",
      "                                                                 \n",
      "=================================================================\n",
      "Total params: 178,110\n",
      "Trainable params: 178,110\n",
      "Non-trainable params: 0\n",
      "_________________________________________________________________\n"
     ]
    }
   ],
   "source": [
    "model.summary()"
   ]
  },
  {
   "cell_type": "code",
   "execution_count": 24,
   "id": "b7719c61",
   "metadata": {},
   "outputs": [],
   "source": [
    "weights,biases=model.layers[1].get_weights()"
   ]
  },
  {
   "cell_type": "code",
   "execution_count": 25,
   "id": "b70202ed",
   "metadata": {},
   "outputs": [
    {
     "data": {
      "text/plain": [
       "array([[-0.05562094, -0.01548366,  0.00057548, ...,  0.0698732 ,\n",
       "         0.01963769,  0.03502094],\n",
       "       [-0.0660252 ,  0.05461156, -0.00484671, ..., -0.02150451,\n",
       "        -0.07046968,  0.06811902],\n",
       "       [-0.01697084, -0.06635828,  0.00417623, ...,  0.06057289,\n",
       "        -0.00734156,  0.06788707],\n",
       "       ...,\n",
       "       [-0.07538511,  0.07713725, -0.06475845, ...,  0.05682142,\n",
       "        -0.00818451,  0.02372338],\n",
       "       [ 0.04048193, -0.05030389,  0.04431016, ...,  0.05149463,\n",
       "        -0.071849  , -0.06498261],\n",
       "       [ 0.06227395, -0.00900429, -0.01432234, ...,  0.07359456,\n",
       "        -0.01110516, -0.04767644]], dtype=float32)"
      ]
     },
     "execution_count": 25,
     "metadata": {},
     "output_type": "execute_result"
    }
   ],
   "source": [
    "weights"
   ]
  },
  {
   "cell_type": "code",
   "execution_count": 26,
   "id": "a62d42e4",
   "metadata": {},
   "outputs": [
    {
     "data": {
      "text/plain": [
       "(784, 200)"
      ]
     },
     "execution_count": 26,
     "metadata": {},
     "output_type": "execute_result"
    }
   ],
   "source": [
    "weights.shape"
   ]
  },
  {
   "cell_type": "markdown",
   "id": "01baea1e",
   "metadata": {},
   "source": [
    "**Training the model**"
   ]
  },
  {
   "cell_type": "code",
   "execution_count": 27,
   "id": "f0ec4b72",
   "metadata": {},
   "outputs": [],
   "source": [
    "model.compile(loss=\"sparse_categorical_crossentropy\",\n",
    "             optimizer=\"sgd\",\n",
    "             metrics=[\"accuracy\"])"
   ]
  },
  {
   "cell_type": "code",
   "execution_count": 28,
   "id": "b976b4a7",
   "metadata": {},
   "outputs": [
    {
     "name": "stdout",
     "output_type": "stream",
     "text": [
      "Epoch 1/20\n",
      "1688/1688 [==============================] - 3s 1ms/step - loss: 0.5992 - accuracy: 0.8456 - val_loss: 0.3120 - val_accuracy: 0.9142\n",
      "Epoch 2/20\n",
      "1688/1688 [==============================] - 3s 2ms/step - loss: 0.2910 - accuracy: 0.9168 - val_loss: 0.2463 - val_accuracy: 0.9315\n",
      "Epoch 3/20\n",
      "1688/1688 [==============================] - 3s 2ms/step - loss: 0.2377 - accuracy: 0.9317 - val_loss: 0.2095 - val_accuracy: 0.9442\n",
      "Epoch 4/20\n",
      "1688/1688 [==============================] - 3s 2ms/step - loss: 0.2025 - accuracy: 0.9421 - val_loss: 0.1821 - val_accuracy: 0.9485\n",
      "Epoch 5/20\n",
      "1688/1688 [==============================] - 2s 1ms/step - loss: 0.1768 - accuracy: 0.9493 - val_loss: 0.1635 - val_accuracy: 0.9552\n",
      "Epoch 6/20\n",
      "1688/1688 [==============================] - 2s 1ms/step - loss: 0.1572 - accuracy: 0.9549 - val_loss: 0.1516 - val_accuracy: 0.9567\n",
      "Epoch 7/20\n",
      "1688/1688 [==============================] - 2s 1ms/step - loss: 0.1416 - accuracy: 0.9594 - val_loss: 0.1381 - val_accuracy: 0.9630\n",
      "Epoch 8/20\n",
      "1688/1688 [==============================] - 2s 1ms/step - loss: 0.1285 - accuracy: 0.9635 - val_loss: 0.1335 - val_accuracy: 0.9618\n",
      "Epoch 9/20\n",
      "1688/1688 [==============================] - 2s 1ms/step - loss: 0.1175 - accuracy: 0.9661 - val_loss: 0.1237 - val_accuracy: 0.9665\n",
      "Epoch 10/20\n",
      "1688/1688 [==============================] - 2s 1ms/step - loss: 0.1079 - accuracy: 0.9695 - val_loss: 0.1210 - val_accuracy: 0.9663\n",
      "Epoch 11/20\n",
      "1688/1688 [==============================] - 2s 1ms/step - loss: 0.0997 - accuracy: 0.9724 - val_loss: 0.1094 - val_accuracy: 0.9677\n",
      "Epoch 12/20\n",
      "1688/1688 [==============================] - 2s 1ms/step - loss: 0.0927 - accuracy: 0.9739 - val_loss: 0.1061 - val_accuracy: 0.9697\n",
      "Epoch 13/20\n",
      "1688/1688 [==============================] - 3s 1ms/step - loss: 0.0857 - accuracy: 0.9757 - val_loss: 0.1001 - val_accuracy: 0.9713\n",
      "Epoch 14/20\n",
      "1688/1688 [==============================] - 2s 1ms/step - loss: 0.0800 - accuracy: 0.9779 - val_loss: 0.0971 - val_accuracy: 0.9717\n",
      "Epoch 15/20\n",
      "1688/1688 [==============================] - 2s 1ms/step - loss: 0.0751 - accuracy: 0.9785 - val_loss: 0.0964 - val_accuracy: 0.9722\n",
      "Epoch 16/20\n",
      "1688/1688 [==============================] - 2s 1ms/step - loss: 0.0702 - accuracy: 0.9802 - val_loss: 0.0916 - val_accuracy: 0.9737\n",
      "Epoch 17/20\n",
      "1688/1688 [==============================] - 2s 1ms/step - loss: 0.0662 - accuracy: 0.9813 - val_loss: 0.0906 - val_accuracy: 0.9733\n",
      "Epoch 18/20\n",
      "1688/1688 [==============================] - 2s 1ms/step - loss: 0.0618 - accuracy: 0.9826 - val_loss: 0.0868 - val_accuracy: 0.9753\n",
      "Epoch 19/20\n",
      "1688/1688 [==============================] - 2s 1ms/step - loss: 0.0585 - accuracy: 0.9840 - val_loss: 0.0894 - val_accuracy: 0.9732\n",
      "Epoch 20/20\n",
      "1688/1688 [==============================] - 2s 1ms/step - loss: 0.0549 - accuracy: 0.9851 - val_loss: 0.0857 - val_accuracy: 0.9758\n"
     ]
    }
   ],
   "source": [
    "model_history=model.fit(x_train,y_train,epochs=20,\n",
    "                       validation_data=(x_valid,y_valid))"
   ]
  },
  {
   "cell_type": "code",
   "execution_count": 29,
   "id": "cdf158db",
   "metadata": {},
   "outputs": [
    {
     "data": {
      "text/plain": [
       "{'verbose': 1, 'epochs': 20, 'steps': 1688}"
      ]
     },
     "execution_count": 29,
     "metadata": {},
     "output_type": "execute_result"
    }
   ],
   "source": [
    "model_history.params"
   ]
  },
  {
   "cell_type": "code",
   "execution_count": 32,
   "id": "b00911a5",
   "metadata": {},
   "outputs": [
    {
     "data": {
      "image/png": "[encoded data removed]",
      "text/plain": [
       "<Figure size 720x432 with 1 Axes>"
      ]
     },
     "metadata": {},
     "output_type": "display_data"
    }
   ],
   "source": [
    "#Plotting the model\n",
    "pd.DataFrame(model_history.history).plot(figsize=(10,6))\n",
    "sns.set_style('darkgrid')\n",
    "plt.grid(True)\n",
    "plt.gca().set_ylim(0,1)\n",
    "plt.title('Model Training')\n",
    "plt.legend()\n",
    "plt.show()"
   ]
  },
  {
   "cell_type": "markdown",
   "id": "313ec647",
   "metadata": {},
   "source": [
    "**Prediction**"
   ]
  },
  {
   "cell_type": "code",
   "execution_count": 33,
   "id": "6217a2be",
   "metadata": {},
   "outputs": [
    {
     "name": "stdout",
     "output_type": "stream",
     "text": [
      "313/313 [==============================] - 0s 886us/step - loss: 0.0838 - accuracy: 0.9745\n"
     ]
    },
    {
     "data": {
      "text/plain": [
       "[0.08381485193967819, 0.9745000004768372]"
      ]
     },
     "execution_count": 33,
     "metadata": {},
     "output_type": "execute_result"
    }
   ],
   "source": [
    "#Evaluating model's performance\n",
    "model.evaluate(x_test,y_test)"
   ]
  },
  {
   "cell_type": "code",
   "execution_count": 34,
   "id": "e69d68d3",
   "metadata": {},
   "outputs": [],
   "source": [
    "x_new=x_test[:5]"
   ]
  },
  {
   "cell_type": "code",
   "execution_count": 35,
   "id": "d0f2f817",
   "metadata": {},
   "outputs": [
    {
     "name": "stdout",
     "output_type": "stream",
     "text": [
      "1/1 [==============================] - 0s 69ms/step\n"
     ]
    }
   ],
   "source": [
    "y_probability=model.predict(x_new)"
   ]
  },
  {
   "cell_type": "code",
   "execution_count": 36,
   "id": "bbc3dabd",
   "metadata": {},
   "outputs": [
    {
     "data": {
      "text/plain": [
       "array([[0.   , 0.   , 0.   , 0.002, 0.   , 0.   , 0.   , 0.998, 0.   ,\n",
       "        0.   ],\n",
       "       [0.   , 0.   , 0.999, 0.   , 0.   , 0.   , 0.   , 0.   , 0.   ,\n",
       "        0.   ],\n",
       "       [0.   , 0.994, 0.001, 0.   , 0.   , 0.   , 0.   , 0.002, 0.002,\n",
       "        0.   ],\n",
       "       [1.   , 0.   , 0.   , 0.   , 0.   , 0.   , 0.   , 0.   , 0.   ,\n",
       "        0.   ],\n",
       "       [0.   , 0.   , 0.   , 0.   , 0.996, 0.   , 0.   , 0.   , 0.   ,\n",
       "        0.004]], dtype=float32)"
      ]
     },
     "execution_count": 36,
     "metadata": {},
     "output_type": "execute_result"
    }
   ],
   "source": [
    "y_probability.round(3)"
   ]
  },
  {
   "cell_type": "code",
   "execution_count": 37,
   "id": "adbc6aff",
   "metadata": {},
   "outputs": [
    {
     "name": "stdout",
     "output_type": "stream",
     "text": [
      "1/1 [==============================] - 0s 22ms/step\n"
     ]
    },
    {
     "data": {
      "text/plain": [
       "array([7, 2, 1, 0, 4], dtype=int64)"
      ]
     },
     "execution_count": 37,
     "metadata": {},
     "output_type": "execute_result"
    }
   ],
   "source": [
    "#for predicting individual classes\n",
    "y_pred=np.argmax(model.predict(x_new),axis=1)\n",
    "y_pred"
   ]
  },
  {
   "cell_type": "markdown",
   "id": "2fd7cacd",
   "metadata": {},
   "source": [
    "**Predicting the model**"
   ]
  },
  {
   "cell_type": "code",
   "execution_count": 38,
   "id": "a612f0e1",
   "metadata": {},
   "outputs": [
    {
     "name": "stdout",
     "output_type": "stream",
     "text": [
      "AxesImage(54,36;334.8x217.44)\n"
     ]
    },
    {
     "data": {
      "image/png": "[encoded data removed]",
      "text/plain": [
       "<Figure size 432x288 with 1 Axes>"
      ]
     },
     "metadata": {},
     "output_type": "display_data"
    }
   ],
   "source": [
    "print(plt.imshow(x_test[3]))"
   ]
  },
  {
   "cell_type": "code",
   "execution_count": 39,
   "id": "51edce2d",
   "metadata": {},
   "outputs": [
    {
     "name": "stdout",
     "output_type": "stream",
     "text": [
      "AxesImage(54,36;334.8x217.44)\n"
     ]
    },
    {
     "data": {
      "image/png": "[encoded data removed]",
      "text/plain": [
       "<Figure size 432x288 with 1 Axes>"
      ]
     },
     "metadata": {},
     "output_type": "display_data"
    }
   ],
   "source": [
    "print(plt.imshow(x_test[1]))"
   ]
  },
  {
   "cell_type": "markdown",
   "id": "7b507434",
   "metadata": {},
   "source": [
    "**Conclusion**\n",
    "\n",
    ">Thus,the dataset has been trained successfully using `tensorflow & keras` model.The trained model gave accuracy of **97%** which shows our model has been optimized and trained well. "
   ]
  }
 ],
 "metadata": {
  "kernelspec": {
   "display_name": "Python 3 (ipykernel)",
   "language": "python",
   "name": "python3"
  },
  "language_info": {
   "codemirror_mode": {
    "name": "ipython",
    "version": 3
   },
   "file_extension": ".py",
   "mimetype": "text/x-python",
   "name": "python",
   "nbconvert_exporter": "python",
   "pygments_lexer": "ipython3",
   "version": "3.9.12"
  }
 },
 "nbformat": 4,
 "nbformat_minor": 5
}
